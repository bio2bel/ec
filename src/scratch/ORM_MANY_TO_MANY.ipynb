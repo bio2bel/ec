{
 "cells": [
  {
   "cell_type": "code",
   "execution_count": 5,
   "metadata": {},
   "outputs": [],
   "source": [
    "import os\n",
    " \n",
    "from sqlalchemy import Column, DateTime, String, Integer, ForeignKey, func\n",
    "from sqlalchemy.orm import relationship, backref\n",
    "from sqlalchemy.ext.declarative import declarative_base"
   ]
  },
  {
   "cell_type": "code",
   "execution_count": 6,
   "metadata": {},
   "outputs": [],
   "source": [
    "Base = declarative_base()"
   ]
  },
  {
   "cell_type": "code",
   "execution_count": 8,
   "metadata": {},
   "outputs": [],
   "source": [
    "class Department(Base):\n",
    "    __tablename__ = 'department'\n",
    "    id = Column(Integer, primary_key=True)\n",
    "    name = Column(String)\n",
    "    employees = relationship(\n",
    "        'Employee',\n",
    "        secondary='department_employee_link')\n",
    "    \n",
    "\n",
    "class Employee(Base):\n",
    "    __tablename__ = 'employee'\n",
    "    id = Column(Integer, primary_key=True)\n",
    "    name = Column(String)\n",
    "    hired_on = Column(\n",
    "        DateTime,\n",
    "        default=func.now())\n",
    "    departments = relationship(\n",
    "        Department,\n",
    "        secondary='department_employee_link')\n",
    " \n",
    " \n",
    "\n",
    "class DepartmentEmployeeLink(Base):\n",
    "    __tablename__ = 'department_employee_link'\n",
    "    department_id = Column(Integer, ForeignKey('department.id'), primary_key=True)\n",
    "    employee_id = Column(Integer, ForeignKey('employee.id'), primary_key=True)"
   ]
  },
  {
   "cell_type": "code",
   "execution_count": 9,
   "metadata": {},
   "outputs": [],
   "source": [
    "fp = 'orm_in_detail.sqlite'\n",
    "if os.path.exists(fp):\n",
    "    os.remove(fp)"
   ]
  },
  {
   "cell_type": "code",
   "execution_count": 10,
   "metadata": {},
   "outputs": [],
   "source": [
    "from sqlalchemy import create_engine\n",
    "engine = create_engine('sqlite:///orm_in_detail.sqlite')"
   ]
  },
  {
   "cell_type": "code",
   "execution_count": 11,
   "metadata": {},
   "outputs": [],
   "source": [
    "from sqlalchemy.orm import sessionmaker\n",
    "session = sessionmaker()\n",
    "session.configure(bind=engine)\n",
    "Base.metadata.create_all(engine)"
   ]
  },
  {
   "cell_type": "code",
   "execution_count": 12,
   "metadata": {},
   "outputs": [],
   "source": [
    "s = session()"
   ]
  },
  {
   "cell_type": "code",
   "execution_count": 13,
   "metadata": {},
   "outputs": [],
   "source": [
    "IT = Department(name=\"IT\")\n",
    "Financial = Department(name=\"Financial\")\n",
    "cathy = Employee(name=\"Cathy\")\n",
    "marry = Employee(name=\"Marry\")\n",
    "john = Employee(name=\"John\")\n",
    "cathy.departments.append(Financial)\n",
    "Financial.employees.append(marry)\n",
    "john.departments.append(IT)\n",
    "s.add(IT)\n",
    "s.add(Financial)\n",
    "s.add(cathy)\n",
    "s.add(marry)\n",
    "s.add(john)\n",
    "s.commit()"
   ]
  },
  {
   "cell_type": "code",
   "execution_count": 14,
   "metadata": {},
   "outputs": [
    {
     "data": {
      "text/plain": [
       "[<__main__.Department at 0x7f51fb3b4a58>]"
      ]
     },
     "execution_count": 14,
     "metadata": {},
     "output_type": "execute_result"
    }
   ],
   "source": [
    "cathy.departments"
   ]
  },
  {
   "cell_type": "code",
   "execution_count": 15,
   "metadata": {},
   "outputs": [
    {
     "data": {
      "text/plain": [
       "[<__main__.Employee at 0x7f51fb3c0fd0>, <__main__.Employee at 0x7f51fb3b4b00>]"
      ]
     },
     "execution_count": 15,
     "metadata": {},
     "output_type": "execute_result"
    }
   ],
   "source": [
    "Financial.employees"
   ]
  },
  {
   "cell_type": "code",
   "execution_count": null,
   "metadata": {},
   "outputs": [],
   "source": []
  }
 ],
 "metadata": {
  "kernelspec": {
   "display_name": "Python 3",
   "language": "python",
   "name": "python3"
  },
  "language_info": {
   "codemirror_mode": {
    "name": "ipython",
    "version": 3
   },
   "file_extension": ".py",
   "mimetype": "text/x-python",
   "name": "python",
   "nbconvert_exporter": "python",
   "pygments_lexer": "ipython3",
   "version": "3.6.2"
  }
 },
 "nbformat": 4,
 "nbformat_minor": 2
}
